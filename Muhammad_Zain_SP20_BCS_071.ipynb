{
  "nbformat": 4,
  "nbformat_minor": 0,
  "metadata": {
    "colab": {
      "provenance": [],
      "authorship_tag": "ABX9TyPTO9FrjO7zrohky3AxGz+b",
      "include_colab_link": true
    },
    "kernelspec": {
      "name": "python3",
      "display_name": "Python 3"
    },
    "language_info": {
      "name": "python"
    }
  },
  "cells": [
    {
      "cell_type": "markdown",
      "metadata": {
        "id": "view-in-github",
        "colab_type": "text"
      },
      "source": [
        "<a href=\"https://colab.research.google.com/github/Muhammad-Zain-Yaseen/Machine-Learning/blob/main/Muhammad_Zain_SP20_BCS_071.ipynb\" target=\"_parent\"><img src=\"https://colab.research.google.com/assets/colab-badge.svg\" alt=\"Open In Colab\"/></a>"
      ]
    },
    {
      "cell_type": "code",
      "execution_count": null,
      "metadata": {
        "id": "h55IwCl93Lxr"
      },
      "outputs": [],
      "source": [
        "!pip install scikit-plot"
      ]
    },
    {
      "cell_type": "code",
      "source": [
        "#import libraries\n",
        "from sklearn import preprocessing\n",
        "import pandas as pd\n",
        "\n",
        "#import different ML classifiers\n",
        "from sklearn.naive_bayes import GaussianNB, BernoulliNB, MultinomialNB\n",
        "from sklearn.svm import SVC, LinearSVC\n",
        "from sklearn.linear_model import LogisticRegression\n",
        "from sklearn.tree import DecisionTreeClassifier\n",
        "from sklearn.ensemble import RandomForestClassifier\n",
        "from sklearn.neural_network import MLPClassifier\n",
        "\n",
        "#import ML evaluation metrics\n",
        "from sklearn.metrics import accuracy_score, f1_score\n",
        "from sklearn.model_selection import train_test_split\n",
        "from sklearn import metrics, model_selection\n",
        "\n",
        "#import scikitplot to plot"
      ],
      "metadata": {
        "id": "NBalG3OG3ZKE"
      },
      "execution_count": null,
      "outputs": []
    },
    {
      "cell_type": "code",
      "source": [
        "from google.colab import drive\n",
        "drive.mount('/content/drive')"
      ],
      "metadata": {
        "id": "IYBcy5bl3uJw"
      },
      "execution_count": null,
      "outputs": []
    },
    {
      "cell_type": "code",
      "source": [
        "df_gender = pd.read_csv('/content/drive/My Drive/ZAYN/gender-prediction.csv')\n",
        "df_gender"
      ],
      "metadata": {
        "colab": {
          "base_uri": "https://localhost:8080/",
          "height": 424
        },
        "id": "ObR9c2hf4cc9",
        "outputId": "742380fa-0230-4b44-99f9-7c9c88acaa79"
      },
      "execution_count": null,
      "outputs": [
        {
          "output_type": "execute_result",
          "data": {
            "text/plain": [
              "    height  weight beard hair_length  shoe_size scarf eye_color  gender\n",
              "0       71     176   yes       short         44    no     black    male\n",
              "1       68     165    no        bald         41    no     black    male\n",
              "2       62     132    no      medium         37   yes      blue  female\n",
              "3       65     138    no        long         38    no      gray  female\n",
              "4       70     197   yes      medium         43    no      gray    male\n",
              "..     ...     ...   ...         ...        ...   ...       ...     ...\n",
              "75      65      99    no       short         39   yes     green  female\n",
              "76      61      98    no       short         37    no     brown  female\n",
              "77      67     119   yes       short         40    no     black    male\n",
              "78      70     190   yes      medium         43    no      gray    male\n",
              "79      62     142   yes        long         37    no      blue  female\n",
              "\n",
              "[80 rows x 8 columns]"
            ],
            "text/html": [
              "\n",
              "  <div id=\"df-420d8dee-2112-4f83-8f84-91d9ac18bcc6\">\n",
              "    <div class=\"colab-df-container\">\n",
              "      <div>\n",
              "<style scoped>\n",
              "    .dataframe tbody tr th:only-of-type {\n",
              "        vertical-align: middle;\n",
              "    }\n",
              "\n",
              "    .dataframe tbody tr th {\n",
              "        vertical-align: top;\n",
              "    }\n",
              "\n",
              "    .dataframe thead th {\n",
              "        text-align: right;\n",
              "    }\n",
              "</style>\n",
              "<table border=\"1\" class=\"dataframe\">\n",
              "  <thead>\n",
              "    <tr style=\"text-align: right;\">\n",
              "      <th></th>\n",
              "      <th>height</th>\n",
              "      <th>weight</th>\n",
              "      <th>beard</th>\n",
              "      <th>hair_length</th>\n",
              "      <th>shoe_size</th>\n",
              "      <th>scarf</th>\n",
              "      <th>eye_color</th>\n",
              "      <th>gender</th>\n",
              "    </tr>\n",
              "  </thead>\n",
              "  <tbody>\n",
              "    <tr>\n",
              "      <th>0</th>\n",
              "      <td>71</td>\n",
              "      <td>176</td>\n",
              "      <td>yes</td>\n",
              "      <td>short</td>\n",
              "      <td>44</td>\n",
              "      <td>no</td>\n",
              "      <td>black</td>\n",
              "      <td>male</td>\n",
              "    </tr>\n",
              "    <tr>\n",
              "      <th>1</th>\n",
              "      <td>68</td>\n",
              "      <td>165</td>\n",
              "      <td>no</td>\n",
              "      <td>bald</td>\n",
              "      <td>41</td>\n",
              "      <td>no</td>\n",
              "      <td>black</td>\n",
              "      <td>male</td>\n",
              "    </tr>\n",
              "    <tr>\n",
              "      <th>2</th>\n",
              "      <td>62</td>\n",
              "      <td>132</td>\n",
              "      <td>no</td>\n",
              "      <td>medium</td>\n",
              "      <td>37</td>\n",
              "      <td>yes</td>\n",
              "      <td>blue</td>\n",
              "      <td>female</td>\n",
              "    </tr>\n",
              "    <tr>\n",
              "      <th>3</th>\n",
              "      <td>65</td>\n",
              "      <td>138</td>\n",
              "      <td>no</td>\n",
              "      <td>long</td>\n",
              "      <td>38</td>\n",
              "      <td>no</td>\n",
              "      <td>gray</td>\n",
              "      <td>female</td>\n",
              "    </tr>\n",
              "    <tr>\n",
              "      <th>4</th>\n",
              "      <td>70</td>\n",
              "      <td>197</td>\n",
              "      <td>yes</td>\n",
              "      <td>medium</td>\n",
              "      <td>43</td>\n",
              "      <td>no</td>\n",
              "      <td>gray</td>\n",
              "      <td>male</td>\n",
              "    </tr>\n",
              "    <tr>\n",
              "      <th>...</th>\n",
              "      <td>...</td>\n",
              "      <td>...</td>\n",
              "      <td>...</td>\n",
              "      <td>...</td>\n",
              "      <td>...</td>\n",
              "      <td>...</td>\n",
              "      <td>...</td>\n",
              "      <td>...</td>\n",
              "    </tr>\n",
              "    <tr>\n",
              "      <th>75</th>\n",
              "      <td>65</td>\n",
              "      <td>99</td>\n",
              "      <td>no</td>\n",
              "      <td>short</td>\n",
              "      <td>39</td>\n",
              "      <td>yes</td>\n",
              "      <td>green</td>\n",
              "      <td>female</td>\n",
              "    </tr>\n",
              "    <tr>\n",
              "      <th>76</th>\n",
              "      <td>61</td>\n",
              "      <td>98</td>\n",
              "      <td>no</td>\n",
              "      <td>short</td>\n",
              "      <td>37</td>\n",
              "      <td>no</td>\n",
              "      <td>brown</td>\n",
              "      <td>female</td>\n",
              "    </tr>\n",
              "    <tr>\n",
              "      <th>77</th>\n",
              "      <td>67</td>\n",
              "      <td>119</td>\n",
              "      <td>yes</td>\n",
              "      <td>short</td>\n",
              "      <td>40</td>\n",
              "      <td>no</td>\n",
              "      <td>black</td>\n",
              "      <td>male</td>\n",
              "    </tr>\n",
              "    <tr>\n",
              "      <th>78</th>\n",
              "      <td>70</td>\n",
              "      <td>190</td>\n",
              "      <td>yes</td>\n",
              "      <td>medium</td>\n",
              "      <td>43</td>\n",
              "      <td>no</td>\n",
              "      <td>gray</td>\n",
              "      <td>male</td>\n",
              "    </tr>\n",
              "    <tr>\n",
              "      <th>79</th>\n",
              "      <td>62</td>\n",
              "      <td>142</td>\n",
              "      <td>yes</td>\n",
              "      <td>long</td>\n",
              "      <td>37</td>\n",
              "      <td>no</td>\n",
              "      <td>blue</td>\n",
              "      <td>female</td>\n",
              "    </tr>\n",
              "  </tbody>\n",
              "</table>\n",
              "<p>80 rows × 8 columns</p>\n",
              "</div>\n",
              "      <button class=\"colab-df-convert\" onclick=\"convertToInteractive('df-420d8dee-2112-4f83-8f84-91d9ac18bcc6')\"\n",
              "              title=\"Convert this dataframe to an interactive table.\"\n",
              "              style=\"display:none;\">\n",
              "        \n",
              "  <svg xmlns=\"http://www.w3.org/2000/svg\" height=\"24px\"viewBox=\"0 0 24 24\"\n",
              "       width=\"24px\">\n",
              "    <path d=\"M0 0h24v24H0V0z\" fill=\"none\"/>\n",
              "    <path d=\"M18.56 5.44l.94 2.06.94-2.06 2.06-.94-2.06-.94-.94-2.06-.94 2.06-2.06.94zm-11 1L8.5 8.5l.94-2.06 2.06-.94-2.06-.94L8.5 2.5l-.94 2.06-2.06.94zm10 10l.94 2.06.94-2.06 2.06-.94-2.06-.94-.94-2.06-.94 2.06-2.06.94z\"/><path d=\"M17.41 7.96l-1.37-1.37c-.4-.4-.92-.59-1.43-.59-.52 0-1.04.2-1.43.59L10.3 9.45l-7.72 7.72c-.78.78-.78 2.05 0 2.83L4 21.41c.39.39.9.59 1.41.59.51 0 1.02-.2 1.41-.59l7.78-7.78 2.81-2.81c.8-.78.8-2.07 0-2.86zM5.41 20L4 18.59l7.72-7.72 1.47 1.35L5.41 20z\"/>\n",
              "  </svg>\n",
              "      </button>\n",
              "      \n",
              "  <style>\n",
              "    .colab-df-container {\n",
              "      display:flex;\n",
              "      flex-wrap:wrap;\n",
              "      gap: 12px;\n",
              "    }\n",
              "\n",
              "    .colab-df-convert {\n",
              "      background-color: #E8F0FE;\n",
              "      border: none;\n",
              "      border-radius: 50%;\n",
              "      cursor: pointer;\n",
              "      display: none;\n",
              "      fill: #1967D2;\n",
              "      height: 32px;\n",
              "      padding: 0 0 0 0;\n",
              "      width: 32px;\n",
              "    }\n",
              "\n",
              "    .colab-df-convert:hover {\n",
              "      background-color: #E2EBFA;\n",
              "      box-shadow: 0px 1px 2px rgba(60, 64, 67, 0.3), 0px 1px 3px 1px rgba(60, 64, 67, 0.15);\n",
              "      fill: #174EA6;\n",
              "    }\n",
              "\n",
              "    [theme=dark] .colab-df-convert {\n",
              "      background-color: #3B4455;\n",
              "      fill: #D2E3FC;\n",
              "    }\n",
              "\n",
              "    [theme=dark] .colab-df-convert:hover {\n",
              "      background-color: #434B5C;\n",
              "      box-shadow: 0px 1px 3px 1px rgba(0, 0, 0, 0.15);\n",
              "      filter: drop-shadow(0px 1px 2px rgba(0, 0, 0, 0.3));\n",
              "      fill: #FFFFFF;\n",
              "    }\n",
              "  </style>\n",
              "\n",
              "      <script>\n",
              "        const buttonEl =\n",
              "          document.querySelector('#df-420d8dee-2112-4f83-8f84-91d9ac18bcc6 button.colab-df-convert');\n",
              "        buttonEl.style.display =\n",
              "          google.colab.kernel.accessAllowed ? 'block' : 'none';\n",
              "\n",
              "        async function convertToInteractive(key) {\n",
              "          const element = document.querySelector('#df-420d8dee-2112-4f83-8f84-91d9ac18bcc6');\n",
              "          const dataTable =\n",
              "            await google.colab.kernel.invokeFunction('convertToInteractive',\n",
              "                                                     [key], {});\n",
              "          if (!dataTable) return;\n",
              "\n",
              "          const docLinkHtml = 'Like what you see? Visit the ' +\n",
              "            '<a target=\"_blank\" href=https://colab.research.google.com/notebooks/data_table.ipynb>data table notebook</a>'\n",
              "            + ' to learn more about interactive tables.';\n",
              "          element.innerHTML = '';\n",
              "          dataTable['output_type'] = 'display_data';\n",
              "          await google.colab.output.renderOutput(dataTable, element);\n",
              "          const docLink = document.createElement('div');\n",
              "          docLink.innerHTML = docLinkHtml;\n",
              "          element.appendChild(docLink);\n",
              "        }\n",
              "      </script>\n",
              "    </div>\n",
              "  </div>\n",
              "  "
            ]
          },
          "metadata": {},
          "execution_count": 9
        }
      ]
    },
    {
      "cell_type": "code",
      "source": [
        "# extracting features from the .csv file and encoding the categorical data (string type) to a number (0-1) for easier calculation. \n",
        "labels = preprocessing.LabelEncoder()\n",
        "B = df_gender['beard']\n",
        "H = df_gender['hair_length']\n",
        "S = df_gender['scarf']\n",
        "E = df_gender['eye_color']\n",
        "G = df_gender['gender']\n",
        "GE = labels.fit_transform(G)\n",
        "BE = labels.fit_transform(B)\n",
        "HL = labels.fit_transform(H)\n",
        "SE = labels.fit_transform(S) \n",
        "EC = labels.fit_transform(E)\n",
        "print(BE,HL,SE,EC)"
      ],
      "metadata": {
        "id": "A76fJACX7p4j"
      },
      "execution_count": null,
      "outputs": []
    },
    {
      "cell_type": "code",
      "source": [
        "y = GE\n",
        "y"
      ],
      "metadata": {
        "id": "gAOH-Jqm7w9p"
      },
      "execution_count": null,
      "outputs": []
    },
    {
      "cell_type": "code",
      "source": [
        "He = df_gender.height.values.tolist()\n",
        "We = df_gender.weight.values.tolist()\n",
        "SZ = df_gender.shoe_size.values.tolist()\n",
        "print(He, We, SZ)\n",
        "\n"
      ],
      "metadata": {
        "id": "OXmPrxX871Gv"
      },
      "execution_count": null,
      "outputs": []
    },
    {
      "cell_type": "code",
      "source": [
        "# x are features, all independent attributes will now be used to train the model\n",
        "#x = list(zip(He,We,GE,HL,EC))\n",
        "x = list(zip(He, We,GE,BE,HL,SE,EC))\n",
        "#targets for test\n",
        "y = GE \n",
        "print(x,y)\n"
      ],
      "metadata": {
        "colab": {
          "base_uri": "https://localhost:8080/"
        },
        "id": "ORHR-dUg8ITP",
        "outputId": "cc152362-6f3c-42b5-d898-7ba74abb18c7"
      },
      "execution_count": null,
      "outputs": [
        {
          "output_type": "stream",
          "name": "stdout",
          "text": [
            "[(71, 176, 1, 1, 3, 0, 0), (68, 165, 1, 0, 0, 0, 0), (62, 132, 0, 0, 2, 1, 1), (65, 138, 0, 0, 1, 0, 3), (70, 197, 1, 1, 2, 0, 3), (71, 190, 1, 1, 3, 0, 0), (74, 201, 1, 1, 0, 0, 2), (74, 182, 1, 0, 3, 0, 2), (63, 127, 0, 0, 3, 0, 4), (65, 139, 0, 0, 2, 1, 3), (66, 125, 0, 0, 1, 0, 3), (73, 188, 1, 1, 3, 0, 3), (74, 167, 1, 0, 2, 0, 0), (68, 141, 0, 0, 1, 0, 3), (70, 199, 1, 1, 2, 0, 0), (73, 189, 1, 1, 3, 0, 1), (69, 159, 1, 0, 3, 0, 0), (68, 135, 0, 0, 1, 1, 4), (68, 145, 0, 0, 1, 1, 3), (66, 138, 0, 0, 2, 0, 4), (66, 132, 0, 0, 2, 0, 0), (71, 170, 1, 1, 2, 0, 0), (67, 119, 1, 1, 3, 0, 0), (70, 190, 1, 1, 2, 0, 3), (68, 154, 0, 0, 2, 1, 2), (71, 155, 1, 1, 2, 0, 2), (69, 121, 1, 1, 2, 0, 0), (68, 97, 0, 0, 2, 0, 4), (68, 158, 0, 0, 1, 0, 1), (58, 92, 0, 0, 3, 1, 3), (63, 109, 0, 0, 2, 1, 2), (71, 158, 1, 1, 2, 0, 3), (61, 88, 0, 0, 1, 0, 3), (67, 132, 0, 0, 2, 0, 0), (62, 116, 0, 0, 2, 1, 2), (71, 125, 1, 1, 2, 0, 2), (63, 125, 0, 0, 2, 1, 4), (68, 121, 1, 1, 2, 0, 0), (67, 145, 0, 0, 1, 1, 3), (65, 99, 0, 0, 2, 1, 4), (61, 98, 0, 0, 3, 0, 3), (70, 167, 1, 1, 2, 0, 0), (64, 122, 1, 1, 2, 0, 0), (61, 156, 1, 1, 3, 0, 2), (69, 178, 1, 1, 0, 0, 0), (72, 150, 1, 0, 2, 0, 2), (70, 160, 1, 0, 1, 0, 0), (67, 167, 1, 1, 2, 0, 2), (72, 153, 1, 1, 2, 0, 0), (67, 130, 1, 1, 2, 0, 0), (72, 154, 1, 1, 2, 0, 0), (67, 119, 1, 1, 2, 0, 2), (65, 160, 1, 0, 2, 0, 2), (70, 121, 1, 1, 2, 0, 2), (63, 103, 0, 0, 1, 0, 2), (74, 218, 1, 0, 2, 0, 0), (72, 145, 1, 1, 2, 0, 2), (67, 99, 0, 0, 1, 1, 3), (69, 209, 1, 1, 2, 0, 2), (67, 143, 1, 1, 2, 0, 2), (70, 209, 1, 0, 2, 0, 2), (71, 145, 1, 1, 2, 0, 2), (72, 185, 1, 1, 3, 0, 2), (65, 96, 0, 0, 1, 1, 4), (60, 125, 0, 0, 1, 1, 3), (70, 166, 1, 1, 0, 0, 0), (63, 102, 0, 0, 1, 1, 4), (67, 133, 1, 1, 3, 0, 0), (62, 105, 0, 0, 2, 1, 0), (71, 168, 1, 1, 3, 0, 0), (62, 100, 0, 0, 1, 0, 2), (74, 202, 1, 0, 2, 0, 0), (72, 165, 1, 1, 2, 0, 2), (65, 98, 0, 0, 1, 1, 3), (67, 145, 0, 0, 1, 1, 4), (65, 99, 0, 0, 3, 1, 4), (61, 98, 0, 0, 3, 0, 2), (67, 119, 1, 1, 3, 0, 0), (70, 190, 1, 1, 2, 0, 3), (62, 142, 0, 1, 1, 0, 1)] [1 1 0 0 1 1 1 1 0 0 0 1 1 0 1 1 1 0 0 0 0 1 1 1 0 1 1 0 0 0 0 1 0 0 0 1 0\n",
            " 1 0 0 0 1 1 1 1 1 1 1 1 1 1 1 1 1 0 1 1 0 1 1 1 1 1 0 0 1 0 1 0 1 0 1 1 0\n",
            " 0 0 0 1 1 0]\n"
          ]
        }
      ]
    },
    {
      "cell_type": "code",
      "source": [
        "X_train, x_test, Y_train, y_test = train_test_split(x, y, test_size = 0.20, random_state=0)"
      ],
      "metadata": {
        "id": "OzDyseB38j2i"
      },
      "execution_count": null,
      "outputs": []
    },
    {
      "cell_type": "code",
      "source": [
        "#select a classifier\n",
        "#model = GaussianNB()\n",
        "#model = BernoulliNB()\n",
        "#model1 = MultinomialNB()\n",
        "\n",
        "#other ML classifiers\n",
        "#model2 = SVC()\n",
        "#model = LinearSVC()\n",
        "#model = LogisticRegression()\n",
        "#model= RandomForestClassifier()\n",
        "model = DecisionTreeClassifier()\n",
        "#MLPClassifier()"
      ],
      "metadata": {
        "id": "8BVH6FHu8uDT"
      },
      "execution_count": null,
      "outputs": []
    },
    {
      "cell_type": "code",
      "source": [
        "model.fit(X_train,Y_train)"
      ],
      "metadata": {
        "colab": {
          "base_uri": "https://localhost:8080/"
        },
        "id": "eQjj7l8t8xQu",
        "outputId": "c2a53d36-f9d3-4307-cc22-84725fe08d24"
      },
      "execution_count": null,
      "outputs": [
        {
          "output_type": "execute_result",
          "data": {
            "text/plain": [
              "DecisionTreeClassifier()"
            ]
          },
          "metadata": {},
          "execution_count": 252
        }
      ]
    },
    {
      "cell_type": "code",
      "source": [
        "\n",
        "prediction = model.predict(x_test)\n",
        "#prediction\n",
        "\n",
        "#When Classifier is Random Forest\n",
        "model_acc = accuracy_score(y_test, prediction)*100\n",
        "print(model_acc)\n",
        "model_cl_rep = metrics.classification_report(y_test, prediction)\n",
        "print(model_cl_rep)\n",
        "\n",
        "model_cm = metrics.confusion_matrix(y_test, prediction)\n",
        "print(model_cm)\n",
        "\n"
      ],
      "metadata": {
        "colab": {
          "base_uri": "https://localhost:8080/"
        },
        "id": "IoNMCxun80NU",
        "outputId": "a31779bd-7e2b-4dbf-91ff-6a6be9003070"
      },
      "execution_count": null,
      "outputs": [
        {
          "output_type": "stream",
          "name": "stdout",
          "text": [
            "100.0\n",
            "              precision    recall  f1-score   support\n",
            "\n",
            "           0       1.00      1.00      1.00         8\n",
            "           1       1.00      1.00      1.00         8\n",
            "\n",
            "    accuracy                           1.00        16\n",
            "   macro avg       1.00      1.00      1.00        16\n",
            "weighted avg       1.00      1.00      1.00        16\n",
            "\n",
            "[[8 0]\n",
            " [0 8]]\n"
          ]
        }
      ]
    },
    {
      "cell_type": "code",
      "source": [
        "\n",
        "#Introducing SVM Classifier and its working SVC\n",
        "\n",
        "#from sklearn.svm import SVC\n",
        "#model = SVC()"
      ],
      "metadata": {
        "id": "u5fcXOhq_FPv"
      },
      "execution_count": null,
      "outputs": []
    },
    {
      "cell_type": "code",
      "source": [
        "#model.fit(X_train,Y_train)"
      ],
      "metadata": {
        "colab": {
          "base_uri": "https://localhost:8080/"
        },
        "id": "IKj542C__LI_",
        "outputId": "c67a6716-6e52-4af2-a83e-a9ee28f8254c"
      },
      "execution_count": null,
      "outputs": [
        {
          "output_type": "execute_result",
          "data": {
            "text/plain": [
              "SVC()"
            ]
          },
          "metadata": {},
          "execution_count": 243
        }
      ]
    },
    {
      "cell_type": "code",
      "source": [
        "#prediction = model.predict(x_test)"
      ],
      "metadata": {
        "id": "oEGeOI7ZcX6c"
      },
      "execution_count": null,
      "outputs": []
    },
    {
      "cell_type": "code",
      "source": [
        "''''\n",
        "model_acc = accuracy_score(y_test, prediction)*100\n",
        "print(\"The accourary of the model is:\",model_acc)\n",
        "\n",
        "model_cm = metrics.confusion_matrix(y_test, prediction)\n",
        "print(\"the consfusion matrix of the model is as follows: \")\n",
        "print(model_cm)\n",
        "\n",
        "#evaluation matrix\n",
        "model_cl_rep2 = metrics.classification_report(y_test, prediction)\n",
        "print(model_cl_rep2)\n",
        "''''\n"
      ],
      "metadata": {
        "colab": {
          "base_uri": "https://localhost:8080/"
        },
        "id": "LTGLANBZ_hs4",
        "outputId": "6e8b89fd-8fdd-44d2-d519-8566b4fdc6ae"
      },
      "execution_count": null,
      "outputs": [
        {
          "output_type": "stream",
          "name": "stdout",
          "text": [
            "The accourary of the model is: 93.75\n",
            "the consfusion matrix of the model is as follows: \n",
            "[[8 0]\n",
            " [1 7]]\n",
            "              precision    recall  f1-score   support\n",
            "\n",
            "           0       0.89      1.00      0.94         8\n",
            "           1       1.00      0.88      0.93         8\n",
            "\n",
            "    accuracy                           0.94        16\n",
            "   macro avg       0.94      0.94      0.94        16\n",
            "weighted avg       0.94      0.94      0.94        16\n",
            "\n"
          ]
        }
      ]
    },
    {
      "cell_type": "code",
      "source": [
        "#from sklearn.neural_network import MLPClassifier\n",
        "#model = BernoulliNB()\n",
        "#model.fit(X_train,Y_train)"
      ],
      "metadata": {
        "colab": {
          "base_uri": "https://localhost:8080/"
        },
        "id": "vhIMzb6fh3vt",
        "outputId": "37677527-35bb-4457-fb87-39131687bb75"
      },
      "execution_count": null,
      "outputs": [
        {
          "output_type": "execute_result",
          "data": {
            "text/plain": [
              "BernoulliNB()"
            ]
          },
          "metadata": {},
          "execution_count": 221
        }
      ]
    },
    {
      "cell_type": "code",
      "source": [
        "#multilayer Perceptron\n",
        "\n",
        "\"\"\"\n",
        "prediction = model.predict(x_test)\n",
        "model_acc = accuracy_score(y_test, prediction)*100\n",
        "print(model_acc)\n",
        "model_cm = metrics.confusion_matrix(y_test, prediction)\n",
        "print(\"the consfusion matrix of the model is as follows: \")\n",
        "print(model_cm)\n",
        "\n",
        "model_cl_rep = metrics.classification_report(y_test, prediction)\n",
        "print(model_cl_rep)\n",
        "\"\"\""
      ],
      "metadata": {
        "id": "CZTTwqJ5BTP9"
      },
      "execution_count": null,
      "outputs": []
    },
    {
      "cell_type": "code",
      "source": [
        "#from sklearn.neural_network import MLPClassifier\n",
        "#model = MultinomialNB()\n",
        "#model.fit(X_train,Y_train)"
      ],
      "metadata": {
        "id": "8yknfhHpiSLm"
      },
      "execution_count": null,
      "outputs": []
    },
    {
      "cell_type": "code",
      "source": [
        "#multilayer Perceptron\n",
        "\n",
        "\"\"\"\"model_acc = accuracy_score(y_test, prediction)*100\n",
        "print(model_acc)\n",
        "model_cm = metrics.confusion_matrix(y_test, prediction)\n",
        "print(\"the consfusion matrix of the model is as follows: \")\n",
        "print(model_cm)\n",
        "\n",
        "model_cl_rep = metrics.classification_report(y_test, prediction)\n",
        "print(model_cl_rep)\n",
        "\"\"\""
      ],
      "metadata": {
        "id": "5Z47M7P2EeDW"
      },
      "execution_count": null,
      "outputs": []
    },
    {
      "cell_type": "code",
      "source": [
        "from sklearn.model_selection import ShuffleSplit,cross_val_score\n",
        "\n",
        "model = DecisionTreeClassifier()\n",
        "\n",
        "shuffle_split=ShuffleSplit(test_size=0.33,train_size = 0.2,n_splits=5)\n",
        "\n",
        "scores=cross_val_score(model,x,y,cv=shuffle_split)\n",
        "\n",
        "print(\"cross Validation scores:n {}\".format(scores))\n",
        "print(\"Average Cross Validation score :{}\".format(scores.mean()))\n"
      ],
      "metadata": {
        "colab": {
          "base_uri": "https://localhost:8080/"
        },
        "id": "hLE8nw2jB9c2",
        "outputId": "514d5853-a47f-42aa-e0aa-20b2160eb4f2"
      },
      "execution_count": null,
      "outputs": [
        {
          "output_type": "stream",
          "name": "stdout",
          "text": [
            "cross Validation scores:n [1.         1.         1.         1.         0.81481481]\n",
            "Average Cross Validation score :0.962962962962963\n"
          ]
        }
      ]
    },
    {
      "cell_type": "code",
      "source": [
        "df = pd.read_csv('/content/drive/My Drive/Datasets/gender-prediction1.csv')\n"
      ],
      "metadata": {
        "id": "qOG13skrqbMe"
      },
      "execution_count": null,
      "outputs": []
    },
    {
      "cell_type": "code",
      "source": [
        "New_df = df"
      ],
      "metadata": {
        "id": "YQk1u-fDrEX4"
      },
      "execution_count": null,
      "outputs": []
    },
    {
      "cell_type": "code",
      "source": [
        "New_df = New_df.drop(['beard','hair_length','scarf','eye_color','gender'], axis=1)\n",
        "New_df"
      ],
      "metadata": {
        "colab": {
          "base_uri": "https://localhost:8080/",
          "height": 424
        },
        "id": "MOSSuFU_rYDY",
        "outputId": "14ef1fbd-ffea-4649-ba1e-2115a23089df"
      },
      "execution_count": null,
      "outputs": [
        {
          "output_type": "execute_result",
          "data": {
            "text/plain": [
              "    weight  height  shoe_size\n",
              "0       71     176         44\n",
              "1       68     165         41\n",
              "2       62     132         37\n",
              "3       65     138         38\n",
              "4       70     197         43\n",
              "..     ...     ...        ...\n",
              "80      85     135         35\n",
              "81      45     175         40\n",
              "82      80     171         44\n",
              "83      85     177         46\n",
              "84      69     165         38\n",
              "\n",
              "[85 rows x 3 columns]"
            ],
            "text/html": [
              "\n",
              "  <div id=\"df-446ba190-814a-4c8a-9e74-1c6bc51dfd5e\">\n",
              "    <div class=\"colab-df-container\">\n",
              "      <div>\n",
              "<style scoped>\n",
              "    .dataframe tbody tr th:only-of-type {\n",
              "        vertical-align: middle;\n",
              "    }\n",
              "\n",
              "    .dataframe tbody tr th {\n",
              "        vertical-align: top;\n",
              "    }\n",
              "\n",
              "    .dataframe thead th {\n",
              "        text-align: right;\n",
              "    }\n",
              "</style>\n",
              "<table border=\"1\" class=\"dataframe\">\n",
              "  <thead>\n",
              "    <tr style=\"text-align: right;\">\n",
              "      <th></th>\n",
              "      <th>weight</th>\n",
              "      <th>height</th>\n",
              "      <th>shoe_size</th>\n",
              "    </tr>\n",
              "  </thead>\n",
              "  <tbody>\n",
              "    <tr>\n",
              "      <th>0</th>\n",
              "      <td>71</td>\n",
              "      <td>176</td>\n",
              "      <td>44</td>\n",
              "    </tr>\n",
              "    <tr>\n",
              "      <th>1</th>\n",
              "      <td>68</td>\n",
              "      <td>165</td>\n",
              "      <td>41</td>\n",
              "    </tr>\n",
              "    <tr>\n",
              "      <th>2</th>\n",
              "      <td>62</td>\n",
              "      <td>132</td>\n",
              "      <td>37</td>\n",
              "    </tr>\n",
              "    <tr>\n",
              "      <th>3</th>\n",
              "      <td>65</td>\n",
              "      <td>138</td>\n",
              "      <td>38</td>\n",
              "    </tr>\n",
              "    <tr>\n",
              "      <th>4</th>\n",
              "      <td>70</td>\n",
              "      <td>197</td>\n",
              "      <td>43</td>\n",
              "    </tr>\n",
              "    <tr>\n",
              "      <th>...</th>\n",
              "      <td>...</td>\n",
              "      <td>...</td>\n",
              "      <td>...</td>\n",
              "    </tr>\n",
              "    <tr>\n",
              "      <th>80</th>\n",
              "      <td>85</td>\n",
              "      <td>135</td>\n",
              "      <td>35</td>\n",
              "    </tr>\n",
              "    <tr>\n",
              "      <th>81</th>\n",
              "      <td>45</td>\n",
              "      <td>175</td>\n",
              "      <td>40</td>\n",
              "    </tr>\n",
              "    <tr>\n",
              "      <th>82</th>\n",
              "      <td>80</td>\n",
              "      <td>171</td>\n",
              "      <td>44</td>\n",
              "    </tr>\n",
              "    <tr>\n",
              "      <th>83</th>\n",
              "      <td>85</td>\n",
              "      <td>177</td>\n",
              "      <td>46</td>\n",
              "    </tr>\n",
              "    <tr>\n",
              "      <th>84</th>\n",
              "      <td>69</td>\n",
              "      <td>165</td>\n",
              "      <td>38</td>\n",
              "    </tr>\n",
              "  </tbody>\n",
              "</table>\n",
              "<p>85 rows × 3 columns</p>\n",
              "</div>\n",
              "      <button class=\"colab-df-convert\" onclick=\"convertToInteractive('df-446ba190-814a-4c8a-9e74-1c6bc51dfd5e')\"\n",
              "              title=\"Convert this dataframe to an interactive table.\"\n",
              "              style=\"display:none;\">\n",
              "        \n",
              "  <svg xmlns=\"http://www.w3.org/2000/svg\" height=\"24px\"viewBox=\"0 0 24 24\"\n",
              "       width=\"24px\">\n",
              "    <path d=\"M0 0h24v24H0V0z\" fill=\"none\"/>\n",
              "    <path d=\"M18.56 5.44l.94 2.06.94-2.06 2.06-.94-2.06-.94-.94-2.06-.94 2.06-2.06.94zm-11 1L8.5 8.5l.94-2.06 2.06-.94-2.06-.94L8.5 2.5l-.94 2.06-2.06.94zm10 10l.94 2.06.94-2.06 2.06-.94-2.06-.94-.94-2.06-.94 2.06-2.06.94z\"/><path d=\"M17.41 7.96l-1.37-1.37c-.4-.4-.92-.59-1.43-.59-.52 0-1.04.2-1.43.59L10.3 9.45l-7.72 7.72c-.78.78-.78 2.05 0 2.83L4 21.41c.39.39.9.59 1.41.59.51 0 1.02-.2 1.41-.59l7.78-7.78 2.81-2.81c.8-.78.8-2.07 0-2.86zM5.41 20L4 18.59l7.72-7.72 1.47 1.35L5.41 20z\"/>\n",
              "  </svg>\n",
              "      </button>\n",
              "      \n",
              "  <style>\n",
              "    .colab-df-container {\n",
              "      display:flex;\n",
              "      flex-wrap:wrap;\n",
              "      gap: 12px;\n",
              "    }\n",
              "\n",
              "    .colab-df-convert {\n",
              "      background-color: #E8F0FE;\n",
              "      border: none;\n",
              "      border-radius: 50%;\n",
              "      cursor: pointer;\n",
              "      display: none;\n",
              "      fill: #1967D2;\n",
              "      height: 32px;\n",
              "      padding: 0 0 0 0;\n",
              "      width: 32px;\n",
              "    }\n",
              "\n",
              "    .colab-df-convert:hover {\n",
              "      background-color: #E2EBFA;\n",
              "      box-shadow: 0px 1px 2px rgba(60, 64, 67, 0.3), 0px 1px 3px 1px rgba(60, 64, 67, 0.15);\n",
              "      fill: #174EA6;\n",
              "    }\n",
              "\n",
              "    [theme=dark] .colab-df-convert {\n",
              "      background-color: #3B4455;\n",
              "      fill: #D2E3FC;\n",
              "    }\n",
              "\n",
              "    [theme=dark] .colab-df-convert:hover {\n",
              "      background-color: #434B5C;\n",
              "      box-shadow: 0px 1px 3px 1px rgba(0, 0, 0, 0.15);\n",
              "      filter: drop-shadow(0px 1px 2px rgba(0, 0, 0, 0.3));\n",
              "      fill: #FFFFFF;\n",
              "    }\n",
              "  </style>\n",
              "\n",
              "      <script>\n",
              "        const buttonEl =\n",
              "          document.querySelector('#df-446ba190-814a-4c8a-9e74-1c6bc51dfd5e button.colab-df-convert');\n",
              "        buttonEl.style.display =\n",
              "          google.colab.kernel.accessAllowed ? 'block' : 'none';\n",
              "\n",
              "        async function convertToInteractive(key) {\n",
              "          const element = document.querySelector('#df-446ba190-814a-4c8a-9e74-1c6bc51dfd5e');\n",
              "          const dataTable =\n",
              "            await google.colab.kernel.invokeFunction('convertToInteractive',\n",
              "                                                     [key], {});\n",
              "          if (!dataTable) return;\n",
              "\n",
              "          const docLinkHtml = 'Like what you see? Visit the ' +\n",
              "            '<a target=\"_blank\" href=https://colab.research.google.com/notebooks/data_table.ipynb>data table notebook</a>'\n",
              "            + ' to learn more about interactive tables.';\n",
              "          element.innerHTML = '';\n",
              "          dataTable['output_type'] = 'display_data';\n",
              "          await google.colab.output.renderOutput(dataTable, element);\n",
              "          const docLink = document.createElement('div');\n",
              "          docLink.innerHTML = docLinkHtml;\n",
              "          element.appendChild(docLink);\n",
              "        }\n",
              "      </script>\n",
              "    </div>\n",
              "  </div>\n",
              "  "
            ]
          },
          "metadata": {},
          "execution_count": 269
        }
      ]
    },
    {
      "cell_type": "code",
      "source": [
        "labels = preprocessing.LabelEncoder()\n",
        "beard_encoded = labels.fit_transform(df['beard'])\n",
        "hair_length_encoded = labels.fit_transform(df['hair_length'])\n",
        "scarf_encoded = labels.fit_transform(df['scarf'])\n",
        "eye_color_encoded = labels.fit_transform(df['eye_color'])\n",
        "gender_encoded = labels.fit_transform(df['gender'])\n",
        "\n",
        "New_df['beard'] = beard_encoded\n",
        "New_df['hair_length'] = hair_length_encoded\n",
        "New_df['scarf'] = scarf_encoded\n",
        "New_df ['gender'] =gender_encoded\n",
        "New_df"
      ],
      "metadata": {
        "colab": {
          "base_uri": "https://localhost:8080/",
          "height": 424
        },
        "id": "PxkrKz4Arajs",
        "outputId": "5e377a77-a940-4a6f-d655-7337cdfbf962"
      },
      "execution_count": null,
      "outputs": [
        {
          "output_type": "execute_result",
          "data": {
            "text/plain": [
              "    weight  height  shoe_size  beard  hair_length  scarf  gender\n",
              "0       71     176         44      1            3      0       1\n",
              "1       68     165         41      0            0      0       1\n",
              "2       62     132         37      0            2      1       0\n",
              "3       65     138         38      0            1      0       0\n",
              "4       70     197         43      1            2      0       1\n",
              "..     ...     ...        ...    ...          ...    ...     ...\n",
              "80      85     135         35      0            1      1       0\n",
              "81      45     175         40      0            3      0       0\n",
              "82      80     171         44      1            3      0       1\n",
              "83      85     177         46      1            2      1       1\n",
              "84      69     165         38      0            1      0       0\n",
              "\n",
              "[85 rows x 7 columns]"
            ],
            "text/html": [
              "\n",
              "  <div id=\"df-5438ab06-2f3a-4ed5-8f30-b4d5a985718e\">\n",
              "    <div class=\"colab-df-container\">\n",
              "      <div>\n",
              "<style scoped>\n",
              "    .dataframe tbody tr th:only-of-type {\n",
              "        vertical-align: middle;\n",
              "    }\n",
              "\n",
              "    .dataframe tbody tr th {\n",
              "        vertical-align: top;\n",
              "    }\n",
              "\n",
              "    .dataframe thead th {\n",
              "        text-align: right;\n",
              "    }\n",
              "</style>\n",
              "<table border=\"1\" class=\"dataframe\">\n",
              "  <thead>\n",
              "    <tr style=\"text-align: right;\">\n",
              "      <th></th>\n",
              "      <th>weight</th>\n",
              "      <th>height</th>\n",
              "      <th>shoe_size</th>\n",
              "      <th>beard</th>\n",
              "      <th>hair_length</th>\n",
              "      <th>scarf</th>\n",
              "      <th>gender</th>\n",
              "    </tr>\n",
              "  </thead>\n",
              "  <tbody>\n",
              "    <tr>\n",
              "      <th>0</th>\n",
              "      <td>71</td>\n",
              "      <td>176</td>\n",
              "      <td>44</td>\n",
              "      <td>1</td>\n",
              "      <td>3</td>\n",
              "      <td>0</td>\n",
              "      <td>1</td>\n",
              "    </tr>\n",
              "    <tr>\n",
              "      <th>1</th>\n",
              "      <td>68</td>\n",
              "      <td>165</td>\n",
              "      <td>41</td>\n",
              "      <td>0</td>\n",
              "      <td>0</td>\n",
              "      <td>0</td>\n",
              "      <td>1</td>\n",
              "    </tr>\n",
              "    <tr>\n",
              "      <th>2</th>\n",
              "      <td>62</td>\n",
              "      <td>132</td>\n",
              "      <td>37</td>\n",
              "      <td>0</td>\n",
              "      <td>2</td>\n",
              "      <td>1</td>\n",
              "      <td>0</td>\n",
              "    </tr>\n",
              "    <tr>\n",
              "      <th>3</th>\n",
              "      <td>65</td>\n",
              "      <td>138</td>\n",
              "      <td>38</td>\n",
              "      <td>0</td>\n",
              "      <td>1</td>\n",
              "      <td>0</td>\n",
              "      <td>0</td>\n",
              "    </tr>\n",
              "    <tr>\n",
              "      <th>4</th>\n",
              "      <td>70</td>\n",
              "      <td>197</td>\n",
              "      <td>43</td>\n",
              "      <td>1</td>\n",
              "      <td>2</td>\n",
              "      <td>0</td>\n",
              "      <td>1</td>\n",
              "    </tr>\n",
              "    <tr>\n",
              "      <th>...</th>\n",
              "      <td>...</td>\n",
              "      <td>...</td>\n",
              "      <td>...</td>\n",
              "      <td>...</td>\n",
              "      <td>...</td>\n",
              "      <td>...</td>\n",
              "      <td>...</td>\n",
              "    </tr>\n",
              "    <tr>\n",
              "      <th>80</th>\n",
              "      <td>85</td>\n",
              "      <td>135</td>\n",
              "      <td>35</td>\n",
              "      <td>0</td>\n",
              "      <td>1</td>\n",
              "      <td>1</td>\n",
              "      <td>0</td>\n",
              "    </tr>\n",
              "    <tr>\n",
              "      <th>81</th>\n",
              "      <td>45</td>\n",
              "      <td>175</td>\n",
              "      <td>40</td>\n",
              "      <td>0</td>\n",
              "      <td>3</td>\n",
              "      <td>0</td>\n",
              "      <td>0</td>\n",
              "    </tr>\n",
              "    <tr>\n",
              "      <th>82</th>\n",
              "      <td>80</td>\n",
              "      <td>171</td>\n",
              "      <td>44</td>\n",
              "      <td>1</td>\n",
              "      <td>3</td>\n",
              "      <td>0</td>\n",
              "      <td>1</td>\n",
              "    </tr>\n",
              "    <tr>\n",
              "      <th>83</th>\n",
              "      <td>85</td>\n",
              "      <td>177</td>\n",
              "      <td>46</td>\n",
              "      <td>1</td>\n",
              "      <td>2</td>\n",
              "      <td>1</td>\n",
              "      <td>1</td>\n",
              "    </tr>\n",
              "    <tr>\n",
              "      <th>84</th>\n",
              "      <td>69</td>\n",
              "      <td>165</td>\n",
              "      <td>38</td>\n",
              "      <td>0</td>\n",
              "      <td>1</td>\n",
              "      <td>0</td>\n",
              "      <td>0</td>\n",
              "    </tr>\n",
              "  </tbody>\n",
              "</table>\n",
              "<p>85 rows × 7 columns</p>\n",
              "</div>\n",
              "      <button class=\"colab-df-convert\" onclick=\"convertToInteractive('df-5438ab06-2f3a-4ed5-8f30-b4d5a985718e')\"\n",
              "              title=\"Convert this dataframe to an interactive table.\"\n",
              "              style=\"display:none;\">\n",
              "        \n",
              "  <svg xmlns=\"http://www.w3.org/2000/svg\" height=\"24px\"viewBox=\"0 0 24 24\"\n",
              "       width=\"24px\">\n",
              "    <path d=\"M0 0h24v24H0V0z\" fill=\"none\"/>\n",
              "    <path d=\"M18.56 5.44l.94 2.06.94-2.06 2.06-.94-2.06-.94-.94-2.06-.94 2.06-2.06.94zm-11 1L8.5 8.5l.94-2.06 2.06-.94-2.06-.94L8.5 2.5l-.94 2.06-2.06.94zm10 10l.94 2.06.94-2.06 2.06-.94-2.06-.94-.94-2.06-.94 2.06-2.06.94z\"/><path d=\"M17.41 7.96l-1.37-1.37c-.4-.4-.92-.59-1.43-.59-.52 0-1.04.2-1.43.59L10.3 9.45l-7.72 7.72c-.78.78-.78 2.05 0 2.83L4 21.41c.39.39.9.59 1.41.59.51 0 1.02-.2 1.41-.59l7.78-7.78 2.81-2.81c.8-.78.8-2.07 0-2.86zM5.41 20L4 18.59l7.72-7.72 1.47 1.35L5.41 20z\"/>\n",
              "  </svg>\n",
              "      </button>\n",
              "      \n",
              "  <style>\n",
              "    .colab-df-container {\n",
              "      display:flex;\n",
              "      flex-wrap:wrap;\n",
              "      gap: 12px;\n",
              "    }\n",
              "\n",
              "    .colab-df-convert {\n",
              "      background-color: #E8F0FE;\n",
              "      border: none;\n",
              "      border-radius: 50%;\n",
              "      cursor: pointer;\n",
              "      display: none;\n",
              "      fill: #1967D2;\n",
              "      height: 32px;\n",
              "      padding: 0 0 0 0;\n",
              "      width: 32px;\n",
              "    }\n",
              "\n",
              "    .colab-df-convert:hover {\n",
              "      background-color: #E2EBFA;\n",
              "      box-shadow: 0px 1px 2px rgba(60, 64, 67, 0.3), 0px 1px 3px 1px rgba(60, 64, 67, 0.15);\n",
              "      fill: #174EA6;\n",
              "    }\n",
              "\n",
              "    [theme=dark] .colab-df-convert {\n",
              "      background-color: #3B4455;\n",
              "      fill: #D2E3FC;\n",
              "    }\n",
              "\n",
              "    [theme=dark] .colab-df-convert:hover {\n",
              "      background-color: #434B5C;\n",
              "      box-shadow: 0px 1px 3px 1px rgba(0, 0, 0, 0.15);\n",
              "      filter: drop-shadow(0px 1px 2px rgba(0, 0, 0, 0.3));\n",
              "      fill: #FFFFFF;\n",
              "    }\n",
              "  </style>\n",
              "\n",
              "      <script>\n",
              "        const buttonEl =\n",
              "          document.querySelector('#df-5438ab06-2f3a-4ed5-8f30-b4d5a985718e button.colab-df-convert');\n",
              "        buttonEl.style.display =\n",
              "          google.colab.kernel.accessAllowed ? 'block' : 'none';\n",
              "\n",
              "        async function convertToInteractive(key) {\n",
              "          const element = document.querySelector('#df-5438ab06-2f3a-4ed5-8f30-b4d5a985718e');\n",
              "          const dataTable =\n",
              "            await google.colab.kernel.invokeFunction('convertToInteractive',\n",
              "                                                     [key], {});\n",
              "          if (!dataTable) return;\n",
              "\n",
              "          const docLinkHtml = 'Like what you see? Visit the ' +\n",
              "            '<a target=\"_blank\" href=https://colab.research.google.com/notebooks/data_table.ipynb>data table notebook</a>'\n",
              "            + ' to learn more about interactive tables.';\n",
              "          element.innerHTML = '';\n",
              "          dataTable['output_type'] = 'display_data';\n",
              "          await google.colab.output.renderOutput(dataTable, element);\n",
              "          const docLink = document.createElement('div');\n",
              "          docLink.innerHTML = docLinkHtml;\n",
              "          element.appendChild(docLink);\n",
              "        }\n",
              "      </script>\n",
              "    </div>\n",
              "  </div>\n",
              "  "
            ]
          },
          "metadata": {},
          "execution_count": 270
        }
      ]
    },
    {
      "cell_type": "code",
      "source": [
        "x = New_df.drop('gender', axis=1)\n",
        "y = New_df['gender']\n"
      ],
      "metadata": {
        "id": "-o-5BFuzrfFN"
      },
      "execution_count": null,
      "outputs": []
    },
    {
      "cell_type": "code",
      "source": [
        "X_train, x_test, Y_train, y_test = train_test_split(x, y, test_size = 0.20, random_state=0)"
      ],
      "metadata": {
        "id": "XSEUJLjVrhZ_"
      },
      "execution_count": null,
      "outputs": []
    },
    {
      "cell_type": "code",
      "source": [
        "model = GaussianNB()"
      ],
      "metadata": {
        "id": "469QnYX0rlxU"
      },
      "execution_count": null,
      "outputs": []
    },
    {
      "cell_type": "code",
      "source": [
        "model.fit(X_train,Y_train)"
      ],
      "metadata": {
        "colab": {
          "base_uri": "https://localhost:8080/"
        },
        "id": "ukUBDDDZrrBE",
        "outputId": "683f5f04-1acf-4b7f-96c9-d3990c9dc56a"
      },
      "execution_count": null,
      "outputs": [
        {
          "output_type": "execute_result",
          "data": {
            "text/plain": [
              "GaussianNB()"
            ]
          },
          "metadata": {},
          "execution_count": 274
        }
      ]
    },
    {
      "cell_type": "code",
      "source": [
        "prediction = model.predict(x_test)\n"
      ],
      "metadata": {
        "id": "pKj5azkArvq0"
      },
      "execution_count": null,
      "outputs": []
    },
    {
      "cell_type": "code",
      "source": [
        "model_acc = accuracy_score(y_test, prediction)*100\n",
        "print(model_acc)"
      ],
      "metadata": {
        "colab": {
          "base_uri": "https://localhost:8080/"
        },
        "id": "ATlZ9ZrprzaZ",
        "outputId": "ab569a61-b199-4cf6-d116-c2496821fc59"
      },
      "execution_count": null,
      "outputs": [
        {
          "output_type": "stream",
          "name": "stdout",
          "text": [
            "100.0\n"
          ]
        }
      ]
    },
    {
      "cell_type": "code",
      "source": [
        "model_cl_rep = metrics.classification_report(y_test, prediction)\n",
        "print(model_cl_rep)"
      ],
      "metadata": {
        "colab": {
          "base_uri": "https://localhost:8080/"
        },
        "id": "ig-_4JrAr4WI",
        "outputId": "a0f5beb7-bf05-4e89-8f6a-9ce47ebfc05d"
      },
      "execution_count": null,
      "outputs": [
        {
          "output_type": "stream",
          "name": "stdout",
          "text": [
            "              precision    recall  f1-score   support\n",
            "\n",
            "           0       1.00      1.00      1.00         8\n",
            "           1       1.00      1.00      1.00         9\n",
            "\n",
            "    accuracy                           1.00        17\n",
            "   macro avg       1.00      1.00      1.00        17\n",
            "weighted avg       1.00      1.00      1.00        17\n",
            "\n"
          ]
        }
      ]
    },
    {
      "cell_type": "code",
      "source": [
        "#generate confusion matrix\n",
        "model_cm = metrics.confusion_matrix(y_test, prediction)\n",
        "print(model_cm)"
      ],
      "metadata": {
        "colab": {
          "base_uri": "https://localhost:8080/"
        },
        "id": "XvjCRTxXr7Dv",
        "outputId": "659540c9-b041-4675-f3ce-93a714d0e6dc"
      },
      "execution_count": null,
      "outputs": [
        {
          "output_type": "stream",
          "name": "stdout",
          "text": [
            "[[8 0]\n",
            " [0 9]]\n"
          ]
        }
      ]
    },
    {
      "cell_type": "code",
      "source": [
        "#make prediction using k-fold cross validation\n",
        "prediction = model_selection.cross_val_predict(model, x, y, cv=5)"
      ],
      "metadata": {
        "id": "mXqGIrn49BiP"
      },
      "execution_count": null,
      "outputs": []
    },
    {
      "cell_type": "code",
      "source": [
        "import scikitplot as skplt"
      ],
      "metadata": {
        "id": "VC5HdMEI9gUO"
      },
      "execution_count": null,
      "outputs": []
    },
    {
      "cell_type": "code",
      "source": [
        "#draw confusion matrix using sci-kit plot\n",
        "skplt.metrics.plot_confusion_matrix(y_test, prediction, normalize=False, title=\"Confusion Matrix\", cmap=\"Blues\")"
      ],
      "metadata": {
        "colab": {
          "base_uri": "https://localhost:8080/",
          "height": 312
        },
        "id": "fAoWA-hC9JRT",
        "outputId": "ce0a1fba-8484-441c-a8bf-637c37f4019c"
      },
      "execution_count": null,
      "outputs": [
        {
          "output_type": "execute_result",
          "data": {
            "text/plain": [
              "<matplotlib.axes._subplots.AxesSubplot at 0x7fbf1493ce50>"
            ]
          },
          "metadata": {},
          "execution_count": 281
        },
        {
          "output_type": "display_data",
          "data": {
            "text/plain": [
              "<Figure size 432x288 with 2 Axes>"
            ],
            "image/png": "[encoded data removed]"
          },
          "metadata": {
            "needs_background": "light"
          }
        }
      ]
    },
    {
      "cell_type": "markdown",
      "source": [],
      "metadata": {
        "id": "l8hZucrzsciu"
      }
    }
  ]
}