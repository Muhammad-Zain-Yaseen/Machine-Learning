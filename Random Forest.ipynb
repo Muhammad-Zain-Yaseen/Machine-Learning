{
  "metadata": {
    "kernelspec": {
      "name": "python",
      "display_name": "Python (Pyodide)",
      "language": "python"
    },
    "language_info": {
      "codemirror_mode": {
        "name": "python",
        "version": 3
      },
      "file_extension": ".py",
      "mimetype": "text/x-python",
      "name": "python",
      "nbconvert_exporter": "python",
      "pygments_lexer": "ipython3",
      "version": "3.8"
    }
  },
  "nbformat_minor": 4,
  "nbformat": 4,
  "cells": [
    {
      "cell_type": "code",
      "source": "\n#Sp20-BCS-071 Muhammad Zain ML assignment no 2: Naive Bayes Classifier:\n\nfrom sklearn.datasets import load_iris\nfrom sklearn.model_selection import train_test_split\nfrom sklearn.naive_bayes import GaussianNB\nX, y = load_iris(return_X_y=True)\ny\nX\ny\nX_desc = load_iris().feature_names\n\nX_desc\ny_desc = load_iris().feature_names\ny_desc\n\ny_desc,X_desc\nX_tn, X_tst, y_tn, y_tst = train_test_split(X, y, test_size= 0.2, random_state=42)\n\n#the data below is the trained data \nX_tn, y_tn\n(X_tn==0).sum(), (X_tn==1).sum(), (X_tn==2).sum()\n(y_tn==0).sum(),(y_tn==1).sum(),(y_tn==2).sum() \ngnb = GaussianNB()\ngnb.fit(X_tn, y_tn)\ny_pred = gnb.predict(X_tst)\nprint({X_tst.shape[0]} ,{(y_tst != y_pred).sum()} )\nprint('Successfull number of instances in this dataset:', {X_tst.shape[0]})\nprint('Unsuccesfull number of instances in this dataset of iris are:',{(y_tst != y_pred).sum()} )\n\n",
      "metadata": {
        "trusted": true
      },
      "execution_count": 1,
      "outputs": [
        {
          "name": "stdout",
          "text": "{30} {0}\nSuccessfull number of instances in this dataset: {30}\nUnsuccesfull number of instances in this dataset of iris are: {0}\n",
          "output_type": "stream"
        }
      ]
    },
    {
      "cell_type": "code",
      "source": "import time\n\nstart_time = time.time()\ngnb.fit(X_tn, y_tn)\nelapsed_time = time.time() - start_time\nprint(f'{elapsed_time:.2f}s elapsed during training')",
      "metadata": {
        "trusted": true
      },
      "execution_count": 5,
      "outputs": [
        {
          "name": "stdout",
          "text": "0.00s elapsed during training\n",
          "output_type": "stream"
        }
      ]
    },
    {
      "cell_type": "code",
      "source": "stat_time = time.time()\ngnb.fit(X_tst, y_tst)\nelapsed_time= time.time() - start_time\nprint(f' {elapsed_time:.2f}s elapsed during testing')",
      "metadata": {
        "trusted": true
      },
      "execution_count": 6,
      "outputs": [
        {
          "name": "stdout",
          "text": " 50.70s elapsed during testing\n",
          "output_type": "stream"
        }
      ]
    },
    {
      "cell_type": "code",
      "source": "",
      "metadata": {},
      "execution_count": null,
      "outputs": []
    },
    {
      "cell_type": "code",
      "source": "",
      "metadata": {},
      "execution_count": null,
      "outputs": []
    }
  ]
}